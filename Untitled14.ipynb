{
  "cells": [
    {
      "cell_type": "markdown",
      "metadata": {
        "id": "view-in-github",
        "colab_type": "text"
      },
      "source": [
        "<a href=\"https://colab.research.google.com/github/Joannaper/APs/blob/main/Untitled14.ipynb\" target=\"_parent\"><img src=\"https://colab.research.google.com/assets/colab-badge.svg\" alt=\"Open In Colab\"/></a>"
      ]
    },
    {
      "cell_type": "code",
      "execution_count": 2,
      "metadata": {
        "id": "sTGKzgBZT-AV"
      },
      "outputs": [],
      "source": [
        "import random\n",
        "from getpass import getpass\n",
        "from time import sleep"
      ]
    },
    {
      "cell_type": "code",
      "source": [
        "def primo(n):\n",
        "    if (n <= 1):\n",
        "        return False\n",
        "    if (n <= 3):\n",
        "        return True\n",
        "\n",
        "    if (n%2 == 0 or n%3 == 0):\n",
        "      return False\n",
        "\n",
        "    i = 5\n",
        "    while(i * i <= n):\n",
        "       if (n%i == 0 or n%(i+2) == 0):\n",
        "         return False\n",
        "       i+=6\n",
        "    return True"
      ],
      "metadata": {
        "id": "7L0wjtpn1moF"
      },
      "execution_count": null,
      "outputs": []
    },
    {
      "cell_type": "code",
      "source": [
        "def gerador_primo():\n",
        "  while True:\n",
        "    x=random.randage(100,400)\n",
        "    if (primo(x)==True):\n",
        "       return x"
      ],
      "metadata": {
        "id": "n_ZiBTEI1nnD"
      },
      "execution_count": null,
      "outputs": []
    },
    {
      "cell_type": "code",
      "execution_count": null,
      "metadata": {
        "id": "MY9p3uTuzrxq"
      },
      "outputs": [],
      "source": [
        "def totient(numero): \n",
        "    if(primo(numero)):\n",
        "       return numero-1\n",
        "    else:\n",
        "       return False"
      ]
    },
    {
      "cell_type": "code",
      "source": [
        "def gerador_e(num):\n",
        "    def mdc(n1,n2):\n",
        "      rest = 1 \n",
        "      while(n2 !=0):\n",
        "        rest = n1%n2\n",
        "        n1 = n2\n",
        "        n2 = rest\n",
        "      return n1\n",
        "      \n",
        "    while True:\n",
        "      e = random.randange(2,num)\n",
        "      if(mdc(num,e)== 1):\n",
        "        return e "
      ],
      "metadata": {
        "id": "f2hL5W6y1nTv"
      },
      "execution_count": null,
      "outputs": []
    },
    {
      "cell_type": "code",
      "source": [
        "def mod(a,b):\n",
        "  if(a<b):\n",
        "    return a \n",
        "  else:\n",
        "    c =a % b \n",
        "    return c"
      ],
      "metadata": {
        "id": "222gASIb2JpK"
      },
      "execution_count": null,
      "outputs": []
    },
    {
      "cell_type": "code",
      "source": [
        "def cifra(senha,e,n):\n",
        "  tam = len(senha)\n",
        "  i = 0\n",
        "  lista = []\n",
        "  while(i<tam):\n",
        "    letra = senha[i]\n",
        "    k = ord(letra)\n",
        "    k = k**e\n",
        "    d = mod(k,n)\n",
        "    lista.append(d)\n",
        "    i += 1 \n",
        "  return lista "
      ],
      "metadata": {
        "id": "MeGMtUsJ2Npm"
      },
      "execution_count": null,
      "outputs": []
    },
    {
      "cell_type": "code",
      "source": [
        "def decifrar(cifra,n,d):\n",
        "   lista = []\n",
        "   i = 0 \n",
        "   tamanho = len(cifra)\n",
        "   while i < tamanho:\n",
        "     result = cifra[i]**d \n",
        "     texto = mod(result,n)\n",
        "     letra =chr(texto)\n",
        "     lista.append(letra)\n",
        "     i += 1 \n",
        "   return lista "
      ],
      "metadata": {
        "id": "kVbBG5qn2Nx5"
      },
      "execution_count": null,
      "outputs": []
    },
    {
      "cell_type": "code",
      "source": [
        "def calcular_chave_privada(toti,e):\n",
        "  d = 0\n",
        "  while(mod(d * e,toti)!=1):\n",
        "    d += 1 \n",
        "  return d "
      ],
      "metadata": {
        "id": "Q67lljWR2N5V"
      },
      "execution_count": null,
      "outputs": []
    },
    {
      "cell_type": "code",
      "source": [
        "if __name__=='__main__':\n",
        "    texto = input(\"Insira a mensagem: \")\n",
        "    p = gerador_primo() \n",
        "    q = gerador_primo() \n",
        "    n = p*q\n",
        "    y = totient(p)\n",
        "    x = totient(q)\n",
        "    totient_de_n = x*y \n",
        "    e = gerador_e(totient_de_n)\n",
        "    chave_publica = (n, e)\n",
        "\n",
        "    print('Sua chave pública é:', chave_publica)\n",
        "   \n",
        "  "
      ],
      "metadata": {
        "id": "YOm1yP0h2ODQ"
      },
      "execution_count": null,
      "outputs": []
    },
    {
      "cell_type": "code",
      "execution_count": 3,
      "metadata": {
        "id": "e4kfUxiFUPkD"
      },
      "outputs": [],
      "source": [
        "def exibirMenu():\n",
        "  desen = '-'*95\n",
        "  print(\"Acesso ao Navio\".center(70))\n",
        "  print(desen)\n",
        "  print('''Sistema de login\n",
        "Escolha uma opçaõ:\n",
        "       [1] Cadastrar \n",
        "       [2] Fazer login\n",
        "       [3] Sair''')\n",
        "  print(desen)\n",
        "  while True:\n",
        "    try:\n",
        "      opcao =int(input(\"Digite uma das opções: \"))\n",
        "      return opcao\n",
        "    except ValueError:\n",
        "      print(\"Opção escolhida não válida\")\n",
        "      print(desen)\n"
      ]
    },
    {
      "cell_type": "code",
      "execution_count": 4,
      "metadata": {
        "id": "gvOFYsb8wXfG"
      },
      "outputs": [],
      "source": [
        "def cadastro():\n",
        "  patente = input(\"Insira sua patente: \")\n",
        "  nome = input(\"Insira seu nome: \")\n",
        "  nserie = int(input(\"Insira seu N° de série: \"))\n",
        "  senha = getpass(prompt=\"Crie sua senha: \")\n",
        "  return patente, nome, nserie, senha"
      ]
    },
    {
      "cell_type": "code",
      "source": [
        "serie_validos = [\"12098767856\", \"78657930074\", \"09825337892\", \"65134890027\", \"01247290617\", \"65447890094\" ]"
      ],
      "metadata": {
        "id": "y71-A9jbk0PF"
      },
      "execution_count": null,
      "outputs": []
    },
    {
      "cell_type": "code",
      "execution_count": 5,
      "metadata": {
        "id": "NTeJtKJUWSLf"
      },
      "outputs": [],
      "source": [
        "def fazerLogin():\n",
        "  nserie = int(input(\"N° série: \"))\n",
        "  senha = getpass(prompt='Senha: ')\n",
        "  return (nserie, senha)"
      ]
    },
    {
      "cell_type": "code",
      "execution_count": 6,
      "metadata": {
        "id": "hsDEY9WdXmyH"
      },
      "outputs": [],
      "source": [
        "def buscarUsuario(nserie, senha):\n",
        "  usuarios = []\n",
        "  try:\n",
        "      with open('usuarios.txt', 'r+', encoding='Utf-8', newline='') as arquivo:\n",
        "           for linha in arquivo:\n",
        "               linha = linha.strip(\",\")\n",
        "               usuarios.append(linha.split())\n",
        "           for usuario in usuarios:\n",
        "               patente = usuario[0]\n",
        "               nome = usuario[1]\n",
        "               serie = usuario[2]\n",
        "               password = usuario[3]\n",
        "               if nserie == serie and senha == password:\n",
        "                   return True \n",
        "  except FileNotFoundError:\n",
        "    return False\n",
        "\n"
      ]
    },
    {
      "cell_type": "code",
      "execution_count": 7,
      "metadata": {
        "colab": {
          "base_uri": "https://localhost:8080/",
          "height": 547
        },
        "id": "C64HZbyWZzm2",
        "outputId": "4750e339-3ced-403b-d827-730da9876b69"
      },
      "outputs": [
        {
          "name": "stdout",
          "output_type": "stream",
          "text": [
            "                           Acesso ao Navio                            \n",
            "-----------------------------------------------------------------------------------------------\n",
            "Sistema de login\n",
            "Escolha uma opçaõ:\n",
            "       [1] Cadastrar \n",
            "       [2] Fazer login\n",
            "       [3] Sair\n",
            "-----------------------------------------------------------------------------------------------\n",
            "Digite uma das opções: 2\n",
            "N° série: 709000876\n",
            "Senha: ··········\n"
          ]
        },
        {
          "output_type": "error",
          "ename": "IndexError",
          "evalue": "ignored",
          "traceback": [
            "\u001b[0;31m---------------------------------------------------------------------------\u001b[0m",
            "\u001b[0;31mIndexError\u001b[0m                                Traceback (most recent call last)",
            "\u001b[0;32m<ipython-input-7-d2c16517ea28>\u001b[0m in \u001b[0;36m<module>\u001b[0;34m\u001b[0m\n\u001b[1;32m     21\u001b[0m   \u001b[0;32melif\u001b[0m \u001b[0mopcao\u001b[0m \u001b[0;34m==\u001b[0m \u001b[0;36m2\u001b[0m\u001b[0;34m:\u001b[0m\u001b[0;34m\u001b[0m\u001b[0;34m\u001b[0m\u001b[0m\n\u001b[1;32m     22\u001b[0m     \u001b[0mnserie\u001b[0m\u001b[0;34m,\u001b[0m \u001b[0msenha\u001b[0m \u001b[0;34m=\u001b[0m \u001b[0mfazerLogin\u001b[0m\u001b[0;34m(\u001b[0m\u001b[0;34m)\u001b[0m\u001b[0;34m\u001b[0m\u001b[0;34m\u001b[0m\u001b[0m\n\u001b[0;32m---> 23\u001b[0;31m     \u001b[0muser\u001b[0m \u001b[0;34m=\u001b[0m \u001b[0mbuscarUsuario\u001b[0m\u001b[0;34m(\u001b[0m\u001b[0mnserie\u001b[0m\u001b[0;34m,\u001b[0m \u001b[0msenha\u001b[0m\u001b[0;34m)\u001b[0m\u001b[0;34m\u001b[0m\u001b[0;34m\u001b[0m\u001b[0m\n\u001b[0m\u001b[1;32m     24\u001b[0m     \u001b[0;32mif\u001b[0m \u001b[0muser\u001b[0m \u001b[0;34m==\u001b[0m \u001b[0;32mTrue\u001b[0m\u001b[0;34m:\u001b[0m\u001b[0;34m\u001b[0m\u001b[0;34m\u001b[0m\u001b[0m\n\u001b[1;32m     25\u001b[0m       \u001b[0mprint\u001b[0m\u001b[0;34m(\u001b[0m\u001b[0;34m'Login realizado com sucesso!'\u001b[0m\u001b[0;34m)\u001b[0m\u001b[0;34m\u001b[0m\u001b[0;34m\u001b[0m\u001b[0m\n",
            "\u001b[0;32m<ipython-input-6-e41ff79261bd>\u001b[0m in \u001b[0;36mbuscarUsuario\u001b[0;34m(nserie, senha)\u001b[0m\n\u001b[1;32m     10\u001b[0m                \u001b[0mnome\u001b[0m \u001b[0;34m=\u001b[0m \u001b[0musuario\u001b[0m\u001b[0;34m[\u001b[0m\u001b[0;36m1\u001b[0m\u001b[0;34m]\u001b[0m\u001b[0;34m\u001b[0m\u001b[0;34m\u001b[0m\u001b[0m\n\u001b[1;32m     11\u001b[0m                \u001b[0mserie\u001b[0m \u001b[0;34m=\u001b[0m \u001b[0musuario\u001b[0m\u001b[0;34m[\u001b[0m\u001b[0;36m2\u001b[0m\u001b[0;34m]\u001b[0m\u001b[0;34m\u001b[0m\u001b[0;34m\u001b[0m\u001b[0m\n\u001b[0;32m---> 12\u001b[0;31m                \u001b[0mpassword\u001b[0m \u001b[0;34m=\u001b[0m \u001b[0musuario\u001b[0m\u001b[0;34m[\u001b[0m\u001b[0;36m3\u001b[0m\u001b[0;34m]\u001b[0m\u001b[0;34m\u001b[0m\u001b[0;34m\u001b[0m\u001b[0m\n\u001b[0m\u001b[1;32m     13\u001b[0m                \u001b[0;32mif\u001b[0m \u001b[0mnserie\u001b[0m \u001b[0;34m==\u001b[0m \u001b[0mserie\u001b[0m \u001b[0;32mand\u001b[0m \u001b[0msenha\u001b[0m \u001b[0;34m==\u001b[0m \u001b[0mpassword\u001b[0m\u001b[0;34m:\u001b[0m\u001b[0;34m\u001b[0m\u001b[0;34m\u001b[0m\u001b[0m\n\u001b[1;32m     14\u001b[0m                    \u001b[0;32mreturn\u001b[0m \u001b[0;32mTrue\u001b[0m\u001b[0;34m\u001b[0m\u001b[0;34m\u001b[0m\u001b[0m\n",
            "\u001b[0;31mIndexError\u001b[0m: list index out of range"
          ]
        }
      ],
      "source": [
        "desen = \"-\"*90\n",
        "while True:\n",
        "  opcao = exibirMenu()\n",
        "\n",
        "  if opcao == 1:\n",
        "    patente, nome, nserie, senha = cadastro()\n",
        "    if senha == nserie:\n",
        "       print('Sua senha deve ser diferente do seu N° de série!')\n",
        "       print(desen)\n",
        "       senha = getpass('Senha: ')\n",
        "       nserie = buscarUsuario(nserie, senha)\n",
        "       if nserie == True:\n",
        "         print(\"Usuário já existe\")\n",
        "         sleep(2)\n",
        "    else:\n",
        "      with open('usuarios.txt', 'a+', encoding='Utf-8', newline='') as arquivo:\n",
        "        arquivo.writelines(f'{patente},{nome}, {nserie}, {senha}\\n')\n",
        "      print('Cadastro aprovado!')\n",
        "      print(desen)\n",
        "      exit()\n",
        "  elif opcao == 2:\n",
        "    nserie, senha = fazerLogin()\n",
        "    user = buscarUsuario(nserie, senha)\n",
        "    if user == True:\n",
        "      print('Login realizado com sucesso!')\n",
        "      print(desen)\n",
        "      sleep(1)\n",
        "      exit()\n",
        "    else:\n",
        "      print(\"Você deve ter digitado seu N° de série ou senha incorretos!\")\n",
        "      print(desen)\n",
        "      sleep(2)\n",
        "  else:\n",
        "    print(\"Fim da sessão!\")\n",
        "    break"
      ]
    }
  ],
  "metadata": {
    "colab": {
      "provenance": [],
      "authorship_tag": "ABX9TyOrG80KBfbT6rBlKZ5r9Oeb",
      "include_colab_link": true
    },
    "kernelspec": {
      "display_name": "Python 3",
      "name": "python3"
    },
    "language_info": {
      "name": "python"
    }
  },
  "nbformat": 4,
  "nbformat_minor": 0
}